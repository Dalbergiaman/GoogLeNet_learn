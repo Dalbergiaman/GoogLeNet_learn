{
 "cells": [
  {
   "cell_type": "code",
   "execution_count": 1,
   "id": "4c9d9fad-817a-40fd-b757-ffcec6323c61",
   "metadata": {},
   "outputs": [],
   "source": [
    "import tensorflow as tf\n",
    "from tensorflow import keras\n",
    "from tensorflow.keras import layers\n",
    "from tensorflow.keras.datasets import mnist"
   ]
  },
  {
   "cell_type": "code",
   "execution_count": 157,
   "id": "9ab85f77-02c1-4e7a-99cb-15bee769a1ec",
   "metadata": {},
   "outputs": [],
   "source": [
    "class inception(layers.Layer):\n",
    "    def __init__(self, c1, c2, c3, c4):\n",
    "        super().__init__()\n",
    "        # 1*1卷积\n",
    "        self.p1_1 = layers.Conv2D(c1, kernel_size=1, activation='relu', padding='same')\n",
    "        # 1*1卷积+3*3卷积\n",
    "        self.p2_1 = layers.Conv2D(c2[0], kernel_size=1, activation='relu', padding='same')\n",
    "        self.p2_2 = layers.Conv2D(c2[1], kernel_size=3, activation='relu', padding='same')\n",
    "        # 1*1卷积+5*5卷积\n",
    "        self.p3_1 = layers.Conv2D(c3[0], kernel_size=1, activation='relu', padding='same')\n",
    "        self.p3_2 = layers.Conv2D(c3[1], kernel_size=5, activation='relu', padding='same')\n",
    "        # self.p3_2 = layers.Conv2D(c3[1], kernel_size=3, activation='relu', padding='same')\n",
    "        # self.p3_3 = layers.Conv2D(c3[1], kernel_size=3, activation='relu', padding='same')\n",
    "        # 3*3池化+1*1卷积\n",
    "        self.p4_1 = layers.MaxPool2D(pool_size=3, padding='same',strides=1)\n",
    "        self.p4_2 = layers.Conv2D(c4, kernel_size=1, padding='same', activation='relu')\n",
    "    def call(self, x):\n",
    "        # 线路1\n",
    "        p1 = self.p1_1(x)\n",
    "        # 线路2\n",
    "        p2 = self.p2_2(self.p2_1(x))\n",
    "        # 线路3\n",
    "        p3 = self.p3_2(self.p3_1(x))\n",
    "        # p3 = self.p3_3(self.p3_2(self.p3_1(x)))\n",
    "        # 线路4\n",
    "        p4 = self.p4_2(self.p4_1(x))\n",
    "        # concat\n",
    "        output = tf.concat([p1, p2, p3, p4], axis=-1)\n",
    "        return output\n"
   ]
  },
  {
   "cell_type": "code",
   "execution_count": 159,
   "id": "5bd39960-7bda-40ee-b1d2-f6e53093b0ca",
   "metadata": {},
   "outputs": [],
   "source": [
    "# filter_size [卷积核个数, 全连接神经元数]\n",
    "def aux_classifer(x, filter_size):\n",
    "    # 平均池化\n",
    "    x = layers.AveragePooling2D(pool_size=5, strides=3, padding='same')(x)\n",
    "    # 1*1 卷积\n",
    "    x = layers.Conv2D(filters=filter_size[0], kernel_size=1, strides=1, padding='valid', activation='relu')(x)\n",
    "    x = layers.Flatten()(x)\n",
    "    # 全连接层\n",
    "    x = layers.Dense(units=filter_size[1], activation='relu')(x)\n",
    "    #输出层\n",
    "    x = layers.Dense(10, activation='softmax')(x)\n",
    "    return x\n"
   ]
  },
  {
   "cell_type": "markdown",
   "id": "4b4d7fcc-0d8b-4597-abb2-5200cebbeb06",
   "metadata": {},
   "source": [
    "## B1"
   ]
  },
  {
   "cell_type": "code",
   "execution_count": 162,
   "id": "424d4caa-3b97-446c-988f-462c09d4564a",
   "metadata": {},
   "outputs": [
    {
     "data": {
      "text/plain": [
       "<KerasTensor: shape=(None, 56, 56, 64) dtype=float32 (created by layer 'max_pooling2d_51')>"
      ]
     },
     "execution_count": 162,
     "metadata": {},
     "output_type": "execute_result"
    }
   ],
   "source": [
    "\n",
    "\n",
    "# 输入\n",
    "inputs = keras.Input(shape=(224, 224, 1), name='input')\n",
    "#b1\n",
    "# 7*7卷积\n",
    "# x = layers.Conv2D(64, kernel_size=7, strides=2, padding='same', activation='relu')(inputs)\n",
    "# 用两个3*3替换7*7. 识别效果提升\n",
    "x = layers.Conv2D(32, kernel_size=3, strides=2, padding='same', activation='relu')(inputs)\n",
    "x = layers.Conv2D(64, kernel_size=3, strides=1, padding='same', activation='relu')(x)\n",
    "# # 3*3,s=2池化\n",
    "x = layers.MaxPool2D(pool_size=3, strides=2, padding='same')(x)\n",
    "x"
   ]
  },
  {
   "cell_type": "markdown",
   "id": "f953ab9e-78ba-4a6a-a00c-85d152aa37b0",
   "metadata": {},
   "source": [
    "## B2"
   ]
  },
  {
   "cell_type": "code",
   "execution_count": 165,
   "id": "0a63e1fd-b234-4d1a-a833-b077ecbe2f2b",
   "metadata": {},
   "outputs": [
    {
     "data": {
      "text/plain": [
       "<KerasTensor: shape=(None, 28, 28, 192) dtype=float32 (created by layer 'max_pooling2d_52')>"
      ]
     },
     "execution_count": 165,
     "metadata": {},
     "output_type": "execute_result"
    }
   ],
   "source": [
    "\n",
    "# b2\n",
    "x = layers.Conv2D(64, kernel_size=1, padding='same', activation='relu')(x)\n",
    "# 3*3 s=1 卷积 \n",
    "x = layers.Conv2D(192, kernel_size=3, padding='same', activation='relu')(x)\n",
    "# 3*3 s=2 池化 \n",
    "x = layers.MaxPool2D(pool_size=3, strides=2, padding='same')(x)\n",
    "x"
   ]
  },
  {
   "cell_type": "markdown",
   "id": "d89fce05-7c5c-486a-8656-8808eb8b354a",
   "metadata": {},
   "source": [
    "## B3"
   ]
  },
  {
   "cell_type": "code",
   "execution_count": 168,
   "id": "66359bd5-9476-4774-9937-bc395ffde468",
   "metadata": {},
   "outputs": [
    {
     "data": {
      "text/plain": [
       "<KerasTensor: shape=(None, 14, 14, 480) dtype=float32 (created by layer 'max_pooling2d_55')>"
      ]
     },
     "execution_count": 168,
     "metadata": {},
     "output_type": "execute_result"
    }
   ],
   "source": [
    "\n",
    "# 两个inception, 一个3*3 s=2 池化\n",
    "x = inception(64, (96, 128), (16, 32), 32)(x)\n",
    "x = inception(128, (128, 192), (32, 96), 64)(x)\n",
    "x = layers.MaxPool2D(pool_size=3, strides=2, padding='same')(x)\n",
    "x"
   ]
  },
  {
   "cell_type": "markdown",
   "id": "ad581c50-6c0f-4aec-be30-253df2754780",
   "metadata": {},
   "source": [
    "## B4"
   ]
  },
  {
   "cell_type": "code",
   "execution_count": 171,
   "id": "2679af78-b63a-499f-a849-9109f2c8e41f",
   "metadata": {},
   "outputs": [
    {
     "data": {
      "text/plain": [
       "<KerasTensor: shape=(None, 7, 7, 832) dtype=float32 (created by layer 'max_pooling2d_61')>"
      ]
     },
     "execution_count": 171,
     "metadata": {},
     "output_type": "execute_result"
    }
   ],
   "source": [
    "#inception\n",
    "x = inception(192, (96, 208), (16, 48), 64)(x)\n",
    "#辅助输出\n",
    "aux_output_1 = aux_classifer(x, [128, 1024])\n",
    "#inception\n",
    "x = inception(160, (112, 224), (24, 64), 64)(x)\n",
    "#inception\n",
    "x = inception(128, (128, 256), (24, 64), 64)(x)\n",
    "#inception\n",
    "x = inception(112, (144, 288), (32, 64), 64)(x)\n",
    "#辅助输出\n",
    "aux_output_2 = aux_classifer(x, [128, 1024])\n",
    "#inception\n",
    "x = inception(256, (160, 320), (32, 128), 128)(x)\n",
    "#池化\n",
    "x = layers.MaxPool2D(pool_size=3, strides=2, padding='same')(x)\n",
    "x"
   ]
  },
  {
   "cell_type": "markdown",
   "id": "b72c05f3-0b95-430d-af67-b6a4fda12a45",
   "metadata": {},
   "source": [
    "## B5"
   ]
  },
  {
   "cell_type": "code",
   "execution_count": 174,
   "id": "dd8481e3-21ce-46fc-bb1b-6298f5617b98",
   "metadata": {},
   "outputs": [
    {
     "data": {
      "text/plain": [
       "<KerasTensor: shape=(None, 10) dtype=float32 (created by layer 'mainout')>"
      ]
     },
     "execution_count": 174,
     "metadata": {},
     "output_type": "execute_result"
    }
   ],
   "source": [
    "x = inception(256, (160, 320), (32, 128), 128)(x)\n",
    "x = inception(384, (192, 384), (48, 128), 128)(x)\n",
    "#GAP\n",
    "x = layers.GlobalAveragePooling2D()(x)\n",
    "#输出\n",
    "output = layers.Dense(10, activation='softmax', name='mainout')(x)\n",
    "output"
   ]
  },
  {
   "cell_type": "code",
   "execution_count": 176,
   "id": "41574383-4787-4c54-bc93-5a216cc8454e",
   "metadata": {},
   "outputs": [],
   "source": [
    "model = tf.keras.Model(inputs=inputs, outputs=[output, aux_output_1, aux_output_2])"
   ]
  },
  {
   "cell_type": "code",
   "execution_count": 178,
   "id": "f14cf35f-59b8-475a-bd74-ebd990eaf7d0",
   "metadata": {},
   "outputs": [
    {
     "name": "stdout",
     "output_type": "stream",
     "text": [
      "Model: \"model_3\"\n",
      "__________________________________________________________________________________________________\n",
      " Layer (type)                Output Shape                 Param #   Connected to                  \n",
      "==================================================================================================\n",
      " input (InputLayer)          [(None, 224, 224, 1)]        0         []                            \n",
      "                                                                                                  \n",
      " conv2d_222 (Conv2D)         (None, 112, 112, 32)         320       ['input[0][0]']               \n",
      "                                                                                                  \n",
      " conv2d_223 (Conv2D)         (None, 112, 112, 64)         18496     ['conv2d_222[0][0]']          \n",
      "                                                                                                  \n",
      " max_pooling2d_51 (MaxPooli  (None, 56, 56, 64)           0         ['conv2d_223[0][0]']          \n",
      " ng2D)                                                                                            \n",
      "                                                                                                  \n",
      " conv2d_224 (Conv2D)         (None, 56, 56, 64)           4160      ['max_pooling2d_51[0][0]']    \n",
      "                                                                                                  \n",
      " conv2d_225 (Conv2D)         (None, 56, 56, 192)          110784    ['conv2d_224[0][0]']          \n",
      "                                                                                                  \n",
      " max_pooling2d_52 (MaxPooli  (None, 28, 28, 192)          0         ['conv2d_225[0][0]']          \n",
      " ng2D)                                                                                            \n",
      "                                                                                                  \n",
      " inception_30 (inception)    (None, 28, 28, 256)          163696    ['max_pooling2d_52[0][0]']    \n",
      "                                                                                                  \n",
      " inception_31 (inception)    (None, 28, 28, 480)          388736    ['inception_30[0][0]']        \n",
      "                                                                                                  \n",
      " max_pooling2d_55 (MaxPooli  (None, 14, 14, 480)          0         ['inception_31[0][0]']        \n",
      " ng2D)                                                                                            \n",
      "                                                                                                  \n",
      " inception_32 (inception)    (None, 14, 14, 512)          376176    ['max_pooling2d_55[0][0]']    \n",
      "                                                                                                  \n",
      " inception_33 (inception)    (None, 14, 14, 512)          449160    ['inception_32[0][0]']        \n",
      "                                                                                                  \n",
      " inception_34 (inception)    (None, 14, 14, 512)          510104    ['inception_33[0][0]']        \n",
      "                                                                                                  \n",
      " inception_35 (inception)    (None, 14, 14, 528)          605376    ['inception_34[0][0]']        \n",
      "                                                                                                  \n",
      " inception_36 (inception)    (None, 14, 14, 832)          868352    ['inception_35[0][0]']        \n",
      "                                                                                                  \n",
      " max_pooling2d_61 (MaxPooli  (None, 7, 7, 832)            0         ['inception_36[0][0]']        \n",
      " ng2D)                                                                                            \n",
      "                                                                                                  \n",
      " average_pooling2d_7 (Avera  (None, 5, 5, 512)            0         ['inception_32[0][0]']        \n",
      " gePooling2D)                                                                                     \n",
      "                                                                                                  \n",
      " average_pooling2d_8 (Avera  (None, 5, 5, 528)            0         ['inception_35[0][0]']        \n",
      " gePooling2D)                                                                                     \n",
      "                                                                                                  \n",
      " inception_37 (inception)    (None, 7, 7, 832)            1043456   ['max_pooling2d_61[0][0]']    \n",
      "                                                                                                  \n",
      " conv2d_244 (Conv2D)         (None, 5, 5, 128)            65664     ['average_pooling2d_7[0][0]'] \n",
      "                                                                                                  \n",
      " conv2d_263 (Conv2D)         (None, 5, 5, 128)            67712     ['average_pooling2d_8[0][0]'] \n",
      "                                                                                                  \n",
      " inception_38 (inception)    (None, 7, 7, 1024)           1444080   ['inception_37[0][0]']        \n",
      "                                                                                                  \n",
      " flatten_7 (Flatten)         (None, 3200)                 0         ['conv2d_244[0][0]']          \n",
      "                                                                                                  \n",
      " flatten_8 (Flatten)         (None, 3200)                 0         ['conv2d_263[0][0]']          \n",
      "                                                                                                  \n",
      " global_average_pooling2d_3  (None, 1024)                 0         ['inception_38[0][0]']        \n",
      "  (GlobalAveragePooling2D)                                                                        \n",
      "                                                                                                  \n",
      " dense_13 (Dense)            (None, 1024)                 3277824   ['flatten_7[0][0]']           \n",
      "                                                                                                  \n",
      " dense_15 (Dense)            (None, 1024)                 3277824   ['flatten_8[0][0]']           \n",
      "                                                                                                  \n",
      " mainout (Dense)             (None, 10)                   10250     ['global_average_pooling2d_3[0\n",
      "                                                                    ][0]']                        \n",
      "                                                                                                  \n",
      " dense_14 (Dense)            (None, 10)                   10250     ['dense_13[0][0]']            \n",
      "                                                                                                  \n",
      " dense_16 (Dense)            (None, 10)                   10250     ['dense_15[0][0]']            \n",
      "                                                                                                  \n",
      "==================================================================================================\n",
      "Total params: 12702670 (48.46 MB)\n",
      "Trainable params: 12702670 (48.46 MB)\n",
      "Non-trainable params: 0 (0.00 Byte)\n",
      "__________________________________________________________________________________________________\n"
     ]
    }
   ],
   "source": [
    "model.summary()"
   ]
  },
  {
   "cell_type": "markdown",
   "id": "0787ba42-18b9-45b8-8f02-685b1d893afe",
   "metadata": {},
   "source": [
    "## 加载并处理数据集"
   ]
  },
  {
   "cell_type": "code",
   "execution_count": 181,
   "id": "8aea5642-f88c-42bd-893a-4c0edf1caf6a",
   "metadata": {},
   "outputs": [],
   "source": [
    "(train_images, train_labels), (test_images, test_labels) = mnist.load_data()"
   ]
  },
  {
   "cell_type": "code",
   "execution_count": 183,
   "id": "10ff555e-7303-422b-ab80-c8bb59d3ce63",
   "metadata": {},
   "outputs": [
    {
     "name": "stdout",
     "output_type": "stream",
     "text": [
      "<class 'numpy.ndarray'>\n"
     ]
    }
   ],
   "source": [
    "import numpy as np\n",
    "train_images = np.reshape(train_images, [train_images.shape[0],train_images.shape[1],train_images.shape[2],1])\n",
    "test_images = np.reshape(test_images, [test_images.shape[0],test_images.shape[1],test_images.shape[2],1])\n",
    "print(type(train_images))"
   ]
  },
  {
   "cell_type": "code",
   "execution_count": 185,
   "id": "a5431c81-3a49-463a-adf6-49db66cf6606",
   "metadata": {},
   "outputs": [],
   "source": [
    "def get_train(size):\n",
    "    index = np.random.randint(0, train_images.shape[0], size)\n",
    "    resized_images = tf.image.resize_with_pad(train_images[index], 224, 224,)\n",
    "    return resized_images.numpy(), train_labels[index]\n",
    "\n",
    "def get_test(size):\n",
    "    index = np.random.randint(0, test_images.shape[0], size)\n",
    "    resized_images = tf.image.resize_with_pad(test_images[index], 224, 224,)\n",
    "    return resized_images.numpy(), test_labels[index]\n"
   ]
  },
  {
   "cell_type": "code",
   "execution_count": 187,
   "id": "a8ae3b8e-4e48-453a-afdd-b45ebf5443b7",
   "metadata": {},
   "outputs": [],
   "source": [
    "train_images, train_labels = get_train(256)\n",
    "test_images, test_labels = get_test(128)"
   ]
  },
  {
   "cell_type": "markdown",
   "id": "9aa0f809-9c47-4ff0-ae91-428fec55de70",
   "metadata": {},
   "source": [
    "## 编译"
   ]
  },
  {
   "cell_type": "code",
   "execution_count": 218,
   "id": "f1a4a4fc-7552-4aca-af8d-e50f9c7bf9f0",
   "metadata": {},
   "outputs": [],
   "source": [
    "optimizer = keras.optimizers.SGD(learning_rate=0.001, momentum=0.5)\n",
    "callback = keras.callbacks.EarlyStopping(monitor='loss', patience=3)\n",
    "model.compile(optimizer=optimizer,\n",
    "             loss='sparse_categorical_crossentropy',\n",
    "             metrics='accuracy',\n",
    "             loss_weights=[1,0.3,0.3])"
   ]
  },
  {
   "cell_type": "markdown",
   "id": "8760109f-19e6-4ead-9c98-46d275894d7b",
   "metadata": {},
   "source": [
    "## 训练"
   ]
  },
  {
   "cell_type": "code",
   "execution_count": 223,
   "id": "0b395691-a3a9-41d5-8419-b72a8a9dca7c",
   "metadata": {},
   "outputs": [
    {
     "name": "stdout",
     "output_type": "stream",
     "text": [
      "Epoch 1/10\n",
      "18/18 [==============================] - 6s 320ms/step - loss: 0.0019 - mainout_loss: 0.0019 - dense_14_loss: 2.1851e-05 - dense_16_loss: 1.9762e-05 - mainout_accuracy: 1.0000 - dense_14_accuracy: 1.0000 - dense_16_accuracy: 1.0000 - val_loss: 1.0307 - val_mainout_loss: 0.4829 - val_dense_14_loss: 0.7406 - val_dense_16_loss: 1.0855 - val_mainout_accuracy: 0.9221 - val_dense_14_accuracy: 0.8961 - val_dense_16_accuracy: 0.9091\n",
      "Epoch 2/10\n",
      "18/18 [==============================] - 6s 323ms/step - loss: 0.0018 - mainout_loss: 0.0018 - dense_14_loss: 2.1483e-05 - dense_16_loss: 1.9606e-05 - mainout_accuracy: 1.0000 - dense_14_accuracy: 1.0000 - dense_16_accuracy: 1.0000 - val_loss: 1.0354 - val_mainout_loss: 0.4844 - val_dense_14_loss: 0.7443 - val_dense_16_loss: 1.0925 - val_mainout_accuracy: 0.9221 - val_dense_14_accuracy: 0.8961 - val_dense_16_accuracy: 0.9091\n",
      "Epoch 3/10\n",
      "18/18 [==============================] - 6s 318ms/step - loss: 0.0017 - mainout_loss: 0.0017 - dense_14_loss: 2.0669e-05 - dense_16_loss: 1.7512e-05 - mainout_accuracy: 1.0000 - dense_14_accuracy: 1.0000 - dense_16_accuracy: 1.0000 - val_loss: 1.0417 - val_mainout_loss: 0.4884 - val_dense_14_loss: 0.7475 - val_dense_16_loss: 1.0967 - val_mainout_accuracy: 0.9221 - val_dense_14_accuracy: 0.8961 - val_dense_16_accuracy: 0.9091\n",
      "Epoch 4/10\n",
      "18/18 [==============================] - 6s 319ms/step - loss: 0.0016 - mainout_loss: 0.0016 - dense_14_loss: 1.8287e-05 - dense_16_loss: 1.6563e-05 - mainout_accuracy: 1.0000 - dense_14_accuracy: 1.0000 - dense_16_accuracy: 1.0000 - val_loss: 1.0504 - val_mainout_loss: 0.4934 - val_dense_14_loss: 0.7513 - val_dense_16_loss: 1.1052 - val_mainout_accuracy: 0.9221 - val_dense_14_accuracy: 0.8961 - val_dense_16_accuracy: 0.9091\n",
      "Epoch 5/10\n",
      "18/18 [==============================] - 6s 319ms/step - loss: 0.0016 - mainout_loss: 0.0016 - dense_14_loss: 1.8768e-05 - dense_16_loss: 1.6581e-05 - mainout_accuracy: 1.0000 - dense_14_accuracy: 1.0000 - dense_16_accuracy: 1.0000 - val_loss: 1.0587 - val_mainout_loss: 0.4970 - val_dense_14_loss: 0.7562 - val_dense_16_loss: 1.1161 - val_mainout_accuracy: 0.9221 - val_dense_14_accuracy: 0.8961 - val_dense_16_accuracy: 0.9091\n",
      "Epoch 6/10\n",
      "18/18 [==============================] - 6s 323ms/step - loss: 0.0015 - mainout_loss: 0.0015 - dense_14_loss: 1.8282e-05 - dense_16_loss: 1.5088e-05 - mainout_accuracy: 1.0000 - dense_14_accuracy: 1.0000 - dense_16_accuracy: 1.0000 - val_loss: 1.0587 - val_mainout_loss: 0.4973 - val_dense_14_loss: 0.7573 - val_dense_16_loss: 1.1139 - val_mainout_accuracy: 0.9221 - val_dense_14_accuracy: 0.8961 - val_dense_16_accuracy: 0.9091\n",
      "Epoch 7/10\n",
      "18/18 [==============================] - 6s 324ms/step - loss: 0.0015 - mainout_loss: 0.0015 - dense_14_loss: 1.6331e-05 - dense_16_loss: 1.4969e-05 - mainout_accuracy: 1.0000 - dense_14_accuracy: 1.0000 - dense_16_accuracy: 1.0000 - val_loss: 1.0643 - val_mainout_loss: 0.4987 - val_dense_14_loss: 0.7616 - val_dense_16_loss: 1.1238 - val_mainout_accuracy: 0.9221 - val_dense_14_accuracy: 0.8961 - val_dense_16_accuracy: 0.9091\n",
      "Epoch 8/10\n",
      "18/18 [==============================] - 6s 321ms/step - loss: 0.0014 - mainout_loss: 0.0014 - dense_14_loss: 1.7492e-05 - dense_16_loss: 1.4622e-05 - mainout_accuracy: 1.0000 - dense_14_accuracy: 1.0000 - dense_16_accuracy: 1.0000 - val_loss: 1.0675 - val_mainout_loss: 0.5000 - val_dense_14_loss: 0.7642 - val_dense_16_loss: 1.1273 - val_mainout_accuracy: 0.9221 - val_dense_14_accuracy: 0.8961 - val_dense_16_accuracy: 0.9091\n",
      "Epoch 9/10\n",
      "18/18 [==============================] - 6s 319ms/step - loss: 0.0014 - mainout_loss: 0.0013 - dense_14_loss: 1.6843e-05 - dense_16_loss: 1.3853e-05 - mainout_accuracy: 1.0000 - dense_14_accuracy: 1.0000 - dense_16_accuracy: 1.0000 - val_loss: 1.0727 - val_mainout_loss: 0.5028 - val_dense_14_loss: 0.7672 - val_dense_16_loss: 1.1323 - val_mainout_accuracy: 0.9221 - val_dense_14_accuracy: 0.8961 - val_dense_16_accuracy: 0.9091\n",
      "Epoch 10/10\n",
      "18/18 [==============================] - 6s 321ms/step - loss: 0.0013 - mainout_loss: 0.0013 - dense_14_loss: 1.6047e-05 - dense_16_loss: 1.3240e-05 - mainout_accuracy: 1.0000 - dense_14_accuracy: 1.0000 - dense_16_accuracy: 1.0000 - val_loss: 1.0787 - val_mainout_loss: 0.5057 - val_dense_14_loss: 0.7706 - val_dense_16_loss: 1.1392 - val_mainout_accuracy: 0.9221 - val_dense_14_accuracy: 0.8961 - val_dense_16_accuracy: 0.9091\n"
     ]
    },
    {
     "data": {
      "text/plain": [
       "<keras.src.callbacks.History at 0x2861a289e50>"
      ]
     },
     "execution_count": 223,
     "metadata": {},
     "output_type": "execute_result"
    }
   ],
   "source": [
    "model.fit(train_images, train_labels, epochs=10, verbose=1, validation_split=0.3, batch_size=10, callbacks=[callback])"
   ]
  },
  {
   "cell_type": "code",
   "execution_count": 225,
   "id": "10f40610-f859-44a2-943d-bdcf4797dcc3",
   "metadata": {},
   "outputs": [
    {
     "name": "stdout",
     "output_type": "stream",
     "text": [
      "4/4 [==============================] - 1s 158ms/step - loss: 1.4024 - mainout_loss: 0.5830 - dense_14_loss: 1.4473 - dense_16_loss: 1.2841 - mainout_accuracy: 0.8828 - dense_14_accuracy: 0.8672 - dense_16_accuracy: 0.8906\n"
     ]
    },
    {
     "data": {
      "text/plain": [
       "[1.4024007320404053,\n",
       " 0.5829648375511169,\n",
       " 1.4473302364349365,\n",
       " 1.2841224670410156,\n",
       " 0.8828125,\n",
       " 0.8671875,\n",
       " 0.890625]"
      ]
     },
     "execution_count": 225,
     "metadata": {},
     "output_type": "execute_result"
    }
   ],
   "source": [
    "model.evaluate(test_images, test_labels, verbose=1)"
   ]
  },
  {
   "cell_type": "markdown",
   "id": "6cd93a3c-c086-4987-9e53-96aba844e368",
   "metadata": {},
   "source": []
  }
 ],
 "metadata": {
  "kernelspec": {
   "display_name": "yolov5",
   "language": "python",
   "name": "yolov5"
  },
  "language_info": {
   "codemirror_mode": {
    "name": "ipython",
    "version": 3
   },
   "file_extension": ".py",
   "mimetype": "text/x-python",
   "name": "python",
   "nbconvert_exporter": "python",
   "pygments_lexer": "ipython3",
   "version": "3.8.19"
  }
 },
 "nbformat": 4,
 "nbformat_minor": 5
}
